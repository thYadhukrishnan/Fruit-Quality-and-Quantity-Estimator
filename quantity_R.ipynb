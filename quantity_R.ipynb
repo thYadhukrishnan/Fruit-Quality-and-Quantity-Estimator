{
  "nbformat": 4,
  "nbformat_minor": 0,
  "metadata": {
    "colab": {
      "provenance": []
    },
    "kernelspec": {
      "name": "python3",
      "display_name": "Python 3"
    },
    "language_info": {
      "name": "python"
    },
    "accelerator": "GPU",
    "gpuClass": "standard"
  },
  "cells": [
    {
      "cell_type": "code",
      "execution_count": null,
      "metadata": {
        "id": "fsoF611gqGBg"
      },
      "outputs": [],
      "source": [
        "import numpy as np\n",
        "import pandas as pd\n",
        "from pathlib import Path\n",
        "import os.path\n",
        "\n",
        "from sklearn.model_selection import train_test_split\n",
        "\n",
        "import tensorflow as tf\n",
        "\n",
        "from sklearn.metrics import r2_score\n",
        "import matplotlib.pyplot as plt"
      ]
    },
    {
      "cell_type": "code",
      "source": [
        "from tensorflow.keras.utils import to_categorical\n",
        "from tensorflow.keras.models import Sequential\n",
        "from tensorflow.keras.layers import Conv2D, MaxPool2D, BatchNormalization\n",
        "from tensorflow.keras.layers import Activation, Dropout, Flatten, Dense\n",
        "from tensorflow.keras.losses import categorical_crossentropy\n",
        "from tensorflow.keras.optimizers import Adam\n",
        "from tensorflow.keras.callbacks import ModelCheckpoint\n",
        "from tensorflow.keras.models import load_model"
      ],
      "metadata": {
        "id": "mr8H9IbiqVzc"
      },
      "execution_count": null,
      "outputs": []
    },
    {
      "cell_type": "code",
      "source": [
        "from tensorflow.keras.applications.resnet50 import ResNet50\n",
        "from tensorflow.keras.preprocessing import image\n",
        "from tensorflow.keras.applications.resnet50 import preprocess_input"
      ],
      "metadata": {
        "id": "xhUVEq1FqYSw"
      },
      "execution_count": null,
      "outputs": []
    },
    {
      "cell_type": "code",
      "source": [
        "from tensorflow.keras.preprocessing import image"
      ],
      "metadata": {
        "id": "5MpRbahaqbFB"
      },
      "execution_count": null,
      "outputs": []
    },
    {
      "cell_type": "code",
      "source": [
        "import tensorflow as tf\n",
        "from tensorflow.keras.applications.resnet50 import preprocess_input, decode_predictions\n",
        "from tensorflow.keras.preprocessing import image"
      ],
      "metadata": {
        "id": "zokXBEztqdpd"
      },
      "execution_count": null,
      "outputs": []
    },
    {
      "cell_type": "code",
      "source": [
        "import keras\n",
        "from keras.utils.np_utils import to_categorical"
      ],
      "metadata": {
        "id": "RNnwDJQnqgMP"
      },
      "execution_count": null,
      "outputs": []
    },
    {
      "cell_type": "code",
      "source": [
        "image_dir = Path('../content/drive/MyDrive/fruitbox1')"
      ],
      "metadata": {
        "id": "A8BQaMhJql73"
      },
      "execution_count": null,
      "outputs": []
    },
    {
      "cell_type": "code",
      "source": [
        "#filepaths = (pd.Series(list(image_dir.glob(r'**/*.jpg')), name='Filepath')).astype(str)\n",
        "#ages = pd.Series(filepaths.apply(lambda x: os.path.split(os.path.split(x)[0])[1]), name='Age').astype(np.int)\n",
        "ages = pd.read_csv('/content/drive/MyDrive/csvsave.csv')\n",
        "images = pd.concat([ages], axis=1).sample(frac=1.0, random_state=1).reset_index(drop=True)"
      ],
      "metadata": {
        "id": "p7gbH8mWqnEi"
      },
      "execution_count": null,
      "outputs": []
    },
    {
      "cell_type": "code",
      "source": [
        "# Let's only use 5000 images to speed up training time\n",
        "#image_df = images.sample(50, random_state=1).reset_index(drop=True)\n",
        "\n",
        "train_df, test_df = train_test_split(images, train_size=0.7, shuffle=True, random_state=1)"
      ],
      "metadata": {
        "id": "S0d5kCiNqrby"
      },
      "execution_count": null,
      "outputs": []
    },
    {
      "cell_type": "code",
      "source": [
        "train_generator = tf.keras.preprocessing.image.ImageDataGenerator(\n",
        "    rescale=1./255,\n",
        "    validation_split=0.2\n",
        ")\n",
        "\n",
        "test_generator = tf.keras.preprocessing.image.ImageDataGenerator(\n",
        "    rescale=1./255\n",
        ")"
      ],
      "metadata": {
        "id": "JHg0YZTMq1O6"
      },
      "execution_count": null,
      "outputs": []
    },
    {
      "cell_type": "code",
      "source": [
        "train_images = train_generator.flow_from_dataframe(\n",
        "    dataframe=train_df,\n",
        "    x_col='filepath',\n",
        "    y_col='weight',\n",
        "    target_size=(120, 120),\n",
        "    color_mode='rgb',\n",
        "    class_mode='raw',\n",
        "    batch_size=8,\n",
        "    shuffle=True,\n",
        "    seed=42,\n",
        "    subset='training'\n",
        ")\n",
        "\n",
        "val_images = train_generator.flow_from_dataframe(\n",
        "    dataframe=train_df,\n",
        "    x_col='filepath',\n",
        "    y_col='weight',\n",
        "    target_size=(120, 120),\n",
        "    color_mode='rgb',\n",
        "    class_mode='raw',\n",
        "    batch_size=8,\n",
        "    shuffle=True,\n",
        "    seed=42,\n",
        "    subset='validation'\n",
        ")\n",
        "\n",
        "test_images = test_generator.flow_from_dataframe(\n",
        "    dataframe=test_df,\n",
        "    x_col='filepath',\n",
        "    y_col='weight',\n",
        "    target_size=(120, 120),\n",
        "    color_mode='rgb',\n",
        "    class_mode='raw',\n",
        "    batch_size=8,\n",
        "    shuffle=False\n",
        ")"
      ],
      "metadata": {
        "id": "AqtccXqcq5Io",
        "colab": {
          "base_uri": "https://localhost:8080/"
        },
        "outputId": "274b7cd0-1b44-45c4-fc34-64f19ee560e4"
      },
      "execution_count": null,
      "outputs": [
        {
          "output_type": "stream",
          "name": "stdout",
          "text": [
            "Found 602 validated image filenames.\n",
            "Found 150 validated image filenames.\n",
            "Found 321 validated image filenames.\n"
          ]
        },
        {
          "output_type": "stream",
          "name": "stderr",
          "text": [
            "/usr/local/lib/python3.7/dist-packages/keras/preprocessing/image.py:991: UserWarning: Found 1 invalid image filename(s) in x_col=\"filepath\". These filename(s) will be ignored.\n",
            "  n_invalid, x_col))\n",
            "/usr/local/lib/python3.7/dist-packages/keras/preprocessing/image.py:991: UserWarning: Found 2 invalid image filename(s) in x_col=\"filepath\". These filename(s) will be ignored.\n",
            "  n_invalid, x_col))\n"
          ]
        }
      ]
    },
    {
      "cell_type": "code",
      "source": [
        "model = Sequential()\n",
        "model.add(ResNet50(include_top=True, weights='imagenet', input_shape=(224, 224, 3), pooling='avg'))\n",
        "model.add(Dense(1, activation='relu'))\n",
        "model.summary()"
      ],
      "metadata": {
        "colab": {
          "base_uri": "https://localhost:8080/"
        },
        "id": "PRViVSJYq-dt",
        "outputId": "de4c8262-6b5c-491d-f376-edfbe36353c2"
      },
      "execution_count": null,
      "outputs": [
        {
          "output_type": "stream",
          "name": "stdout",
          "text": [
            "Downloading data from https://storage.googleapis.com/tensorflow/keras-applications/resnet/resnet50_weights_tf_dim_ordering_tf_kernels.h5\n",
            "102967424/102967424 [==============================] - 5s 0us/step\n",
            "Model: \"sequential\"\n",
            "_________________________________________________________________\n",
            " Layer (type)                Output Shape              Param #   \n",
            "=================================================================\n",
            " resnet50 (Functional)       (None, 1000)              25636712  \n",
            "                                                                 \n",
            " dense (Dense)               (None, 1)                 1001      \n",
            "                                                                 \n",
            "=================================================================\n",
            "Total params: 25,637,713\n",
            "Trainable params: 25,584,593\n",
            "Non-trainable params: 53,120\n",
            "_________________________________________________________________\n"
          ]
        }
      ]
    },
    {
      "cell_type": "code",
      "source": [
        "model.compile(\n",
        "    optimizer='adam',\n",
        "    loss='mse',\n",
        "\n",
        ")\n",
        "\n",
        "history = model.fit(\n",
        "    train_images,\n",
        "    validation_data=val_images,\n",
        "    epochs=100,\n",
        "    callbacks=[\n",
        "        tf.keras.callbacks.EarlyStopping(\n",
        "            monitor='val_loss',\n",
        "            patience=5,\n",
        "            restore_best_weights=True\n",
        "        )\n",
        "    ]\n",
        ")"
      ],
      "metadata": {
        "id": "GrGQAZgxrFSa",
        "colab": {
          "base_uri": "https://localhost:8080/"
        },
        "outputId": "15e5916b-3de2-4aad-d47b-14335345eb60"
      },
      "execution_count": null,
      "outputs": [
        {
          "output_type": "stream",
          "name": "stdout",
          "text": [
            "Epoch 1/100\n",
            "76/76 [==============================] - 635s 8s/step - loss: 4.8694 - val_loss: 4.5184\n",
            "Epoch 2/100\n",
            "76/76 [==============================] - 136s 2s/step - loss: 4.3002 - val_loss: 4.1478\n",
            "Epoch 3/100\n",
            "76/76 [==============================] - 133s 2s/step - loss: 3.8328 - val_loss: 3.4783\n",
            "Epoch 4/100\n",
            "76/76 [==============================] - 133s 2s/step - loss: 3.4322 - val_loss: 3.1120\n",
            "Epoch 5/100\n",
            "76/76 [==============================] - 133s 2s/step - loss: 3.0873 - val_loss: 2.8009\n",
            "Epoch 6/100\n",
            "76/76 [==============================] - 133s 2s/step - loss: 2.7904 - val_loss: 2.5307\n",
            "Epoch 7/100\n",
            "76/76 [==============================] - 134s 2s/step - loss: 2.5411 - val_loss: 2.3042\n",
            "Epoch 8/100\n",
            "76/76 [==============================] - 133s 2s/step - loss: 2.3310 - val_loss: 2.1139\n",
            "Epoch 9/100\n",
            "76/76 [==============================] - 133s 2s/step - loss: 2.1538 - val_loss: 1.9591\n",
            "Epoch 10/100\n",
            "76/76 [==============================] - 132s 2s/step - loss: 2.0056 - val_loss: 1.8271\n",
            "Epoch 11/100\n",
            "76/76 [==============================] - 132s 2s/step - loss: 1.8834 - val_loss: 1.7199\n",
            "Epoch 12/100\n",
            "76/76 [==============================] - 131s 2s/step - loss: 1.7840 - val_loss: 1.6303\n",
            "Epoch 13/100\n",
            "76/76 [==============================] - 133s 2s/step - loss: 1.7031 - val_loss: 1.5639\n",
            "Epoch 14/100\n",
            "76/76 [==============================] - 131s 2s/step - loss: 1.6392 - val_loss: 1.5108\n",
            "Epoch 15/100\n",
            "76/76 [==============================] - 132s 2s/step - loss: 1.5891 - val_loss: 1.4687\n",
            "Epoch 16/100\n",
            "76/76 [==============================] - 131s 2s/step - loss: 1.5508 - val_loss: 1.4336\n",
            "Epoch 17/100\n",
            "76/76 [==============================] - 131s 2s/step - loss: 1.5199 - val_loss: 1.4100\n",
            "Epoch 18/100\n",
            "76/76 [==============================] - 131s 2s/step - loss: 1.4973 - val_loss: 1.3919\n",
            "Epoch 19/100\n",
            "76/76 [==============================] - 132s 2s/step - loss: 1.4805 - val_loss: 1.3795\n",
            "Epoch 20/100\n",
            "76/76 [==============================] - 132s 2s/step - loss: 1.4679 - val_loss: 1.3694\n",
            "Epoch 21/100\n",
            "76/76 [==============================] - 132s 2s/step - loss: 1.5371 - val_loss: 1.3595\n",
            "Epoch 22/100\n",
            "76/76 [==============================] - 132s 2s/step - loss: 1.4522 - val_loss: 1.3560\n",
            "Epoch 23/100\n",
            "76/76 [==============================] - 132s 2s/step - loss: 1.4464 - val_loss: 1.3532\n",
            "Epoch 24/100\n",
            "76/76 [==============================] - 132s 2s/step - loss: 1.4436 - val_loss: 1.3520\n",
            "Epoch 25/100\n",
            "76/76 [==============================] - 131s 2s/step - loss: 1.4419 - val_loss: 1.3505\n",
            "Epoch 26/100\n",
            "76/76 [==============================] - 131s 2s/step - loss: 1.4405 - val_loss: 1.3501\n",
            "Epoch 27/100\n",
            "76/76 [==============================] - 131s 2s/step - loss: 1.4399 - val_loss: 1.3497\n",
            "Epoch 28/100\n",
            "76/76 [==============================] - 132s 2s/step - loss: 1.4390 - val_loss: 1.3495\n",
            "Epoch 29/100\n",
            "76/76 [==============================] - 132s 2s/step - loss: 1.4390 - val_loss: 1.3493\n",
            "Epoch 30/100\n",
            "76/76 [==============================] - 132s 2s/step - loss: 1.4382 - val_loss: 1.3493\n",
            "Epoch 31/100\n",
            "76/76 [==============================] - 132s 2s/step - loss: 1.4384 - val_loss: 1.3493\n",
            "Epoch 32/100\n",
            "76/76 [==============================] - 131s 2s/step - loss: 1.4384 - val_loss: 1.3494\n",
            "Epoch 33/100\n",
            "76/76 [==============================] - 131s 2s/step - loss: 1.4384 - val_loss: 1.3494\n",
            "Epoch 34/100\n",
            "76/76 [==============================] - 130s 2s/step - loss: 1.4380 - val_loss: 1.3495\n",
            "Epoch 35/100\n",
            "76/76 [==============================] - 130s 2s/step - loss: 1.4381 - val_loss: 1.3494\n"
          ]
        }
      ]
    },
    {
      "cell_type": "code",
      "source": [
        "predicted_weight = np.squeeze(model.predict(test_images))\n",
        "true_ages = test_images.labels\n",
        "\n",
        "mse = model.evaluate(test_images, verbose=0)\n",
        "print(\"     Test MSE: {:.5f}\".format(mse))\n",
        "\n",
        "r2 = r2_score(true_ages, predicted_weight)\n",
        "print(\"Test R^2 Score: {:.5f}\".format(r2))"
      ],
      "metadata": {
        "id": "eppyHfiWrH2z",
        "colab": {
          "base_uri": "https://localhost:8080/"
        },
        "outputId": "4017117a-5ff7-4e64-c6e6-154b16611a6e"
      },
      "execution_count": null,
      "outputs": [
        {
          "output_type": "stream",
          "name": "stdout",
          "text": [
            "41/41 [==============================] - 268s 7s/step\n",
            "     Test MSE: 1.40612\n",
            "Test R^2 Score: -0.00252\n"
          ]
        }
      ]
    },
    {
      "cell_type": "code",
      "source": [
        "plt.plot(history.history['loss'])\n",
        "plt.plot(history.history['val_loss'])\n",
        "plt.title('model loss')\n",
        "plt.ylabel('loss')\n",
        "plt.xlabel('epoch')\n",
        "plt.legend(['Train', 'Validation'], loc='upper left')\n",
        "plt.show()"
      ],
      "metadata": {
        "id": "fxbuOICOrXVv",
        "colab": {
          "base_uri": "https://localhost:8080/",
          "height": 295
        },
        "outputId": "c1820897-a5ac-4e69-81fb-5a0daf101afa"
      },
      "execution_count": null,
      "outputs": [
        {
          "output_type": "display_data",
          "data": {
            "text/plain": [
              "<Figure size 432x288 with 1 Axes>"
            ],
            "image/png": "[encoded data removed]"
          },
          "metadata": {
            "needs_background": "light"
          }
        }
      ]
    },
    {
      "cell_type": "code",
      "source": [
        "img=\"/content/drive/MyDrive/fruitbox1/Image_110.jpg\"\n",
        "\n",
        "img1 = image.load_img(img, target_size=(224, 224,3))\n",
        "img_array = image.img_to_array(img1)\n",
        "img_batch = np.expand_dims(img_array, axis=0)\n",
        "img_preprocessed = preprocess_input(img_batch)"
      ],
      "metadata": {
        "id": "3E2TuEJyrbJ1"
      },
      "execution_count": null,
      "outputs": []
    },
    {
      "cell_type": "code",
      "source": [
        "y=model.predict(img_preprocessed)"
      ],
      "metadata": {
        "colab": {
          "base_uri": "https://localhost:8080/"
        },
        "id": "EjoEn7gOrfLv",
        "outputId": "73b7ac53-9a08-46f7-a038-c71aef2cf401"
      },
      "execution_count": null,
      "outputs": [
        {
          "output_type": "stream",
          "name": "stdout",
          "text": [
            "1/1 [==============================] - 0s 21ms/step\n"
          ]
        }
      ]
    },
    {
      "cell_type": "code",
      "source": [
        "print(y)"
      ],
      "metadata": {
        "colab": {
          "base_uri": "https://localhost:8080/"
        },
        "id": "GUuajgG1s4kN",
        "outputId": "6680decc-df04-4eef-bf0b-6f56d18ca3aa"
      },
      "execution_count": null,
      "outputs": [
        {
          "output_type": "stream",
          "name": "stdout",
          "text": [
            "[[0.]]\n"
          ]
        }
      ]
    },
    {
      "cell_type": "code",
      "source": [
        "model.save('/content/drive/MyDrive/model/latestrlu.h5')"
      ],
      "metadata": {
        "id": "aNThd4TlxWCe"
      },
      "execution_count": null,
      "outputs": []
    },
    {
      "cell_type": "code",
      "source": [
        "model.load_weights('/content/drive/MyDrive/model/new2.h5')"
      ],
      "metadata": {
        "id": "BWlpeLKLrnSt"
      },
      "execution_count": null,
      "outputs": []
    }
  ]
}