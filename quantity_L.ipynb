{
  "nbformat": 4,
  "nbformat_minor": 0,
  "metadata": {
    "colab": {
      "provenance": []
    },
    "kernelspec": {
      "name": "python3",
      "display_name": "Python 3"
    },
    "language_info": {
      "name": "python"
    },
    "accelerator": "GPU"
  },
  "cells": [
    {
      "cell_type": "code",
      "execution_count": null,
      "metadata": {
        "id": "wSbM_6WGPQO2"
      },
      "outputs": [],
      "source": [
        "import numpy as np\n",
        "import pandas as pd\n",
        "from pathlib import Path\n",
        "import os.path\n",
        "\n",
        "from sklearn.model_selection import train_test_split\n",
        "\n",
        "import tensorflow as tf\n",
        "\n",
        "from sklearn.metrics import r2_score"
      ]
    },
    {
      "cell_type": "code",
      "source": [
        "from tensorflow.keras.utils import to_categorical\n",
        "from tensorflow.keras.models import Sequential\n",
        "from tensorflow.keras.layers import Conv2D, MaxPool2D, BatchNormalization\n",
        "from tensorflow.keras.layers import Activation, Dropout, Flatten, Dense\n",
        "from tensorflow.keras.losses import categorical_crossentropy\n",
        "from tensorflow.keras.optimizers import Adam\n",
        "from tensorflow.keras.callbacks import ModelCheckpoint\n",
        "from tensorflow.keras.models import load_model"
      ],
      "metadata": {
        "id": "N93npVEXKGTg"
      },
      "execution_count": null,
      "outputs": []
    },
    {
      "cell_type": "code",
      "source": [
        "from tensorflow.keras.applications.resnet50 import ResNet50\n",
        "from tensorflow.keras.preprocessing import image\n",
        "from tensorflow.keras.applications.resnet50 import preprocess_input"
      ],
      "metadata": {
        "id": "8yGRFH2suq0G"
      },
      "execution_count": null,
      "outputs": []
    },
    {
      "cell_type": "code",
      "source": [
        "from tensorflow.keras.preprocessing import image"
      ],
      "metadata": {
        "id": "KtLaObIJpK6J"
      },
      "execution_count": null,
      "outputs": []
    },
    {
      "cell_type": "code",
      "source": [
        "import tensorflow as tf\n",
        "from tensorflow.keras.applications.resnet50 import preprocess_input, decode_predictions\n",
        "from tensorflow.keras.preprocessing import image"
      ],
      "metadata": {
        "id": "hsJLzrXYqAsm"
      },
      "execution_count": null,
      "outputs": []
    },
    {
      "cell_type": "code",
      "source": [
        "import keras\n",
        "from keras.utils.np_utils import to_categorical"
      ],
      "metadata": {
        "id": "PJD9jCRS4Pd_"
      },
      "execution_count": null,
      "outputs": []
    },
    {
      "cell_type": "code",
      "source": [
        "image_dir = Path('../content/drive/MyDrive/fruitbox1')"
      ],
      "metadata": {
        "id": "9HodVa7RNuaD"
      },
      "execution_count": null,
      "outputs": []
    },
    {
      "cell_type": "markdown",
      "source": [
        "getting file paths of the images into a list"
      ],
      "metadata": {
        "id": "wQH2UsFgFlLp"
      }
    },
    {
      "cell_type": "code",
      "source": [
        "#filepaths = (pd.Series(list(image_dir.glob(r'**/*.jpg')), name='Filepath')).astype(str)\n",
        "#ages = pd.Series(filepaths.apply(lambda x: os.path.split(os.path.split(x)[0])[1]), name='Age').astype(np.int)\n",
        "ages = pd.read_csv('/content/drive/MyDrive/csvsave.csv')\n",
        "images = pd.concat([ages], axis=1).sample(frac=1.0, random_state=1).reset_index(drop=True)"
      ],
      "metadata": {
        "id": "TOxRFkfLN8Qf"
      },
      "execution_count": null,
      "outputs": []
    },
    {
      "cell_type": "code",
      "source": [
        "ages"
      ],
      "metadata": {
        "colab": {
          "base_uri": "https://localhost:8080/",
          "height": 423
        },
        "id": "ho8ALHdiHXK0",
        "outputId": "47c9580b-19ab-4339-b081-a61bcfc93dd6"
      },
      "execution_count": null,
      "outputs": [
        {
          "output_type": "execute_result",
          "data": {
            "text/plain": [
              "                                             filepath  weight  Unnamed: 2  \\\n",
              "0        /content/drive/MyDrive/fruitbox1/Image_1.jpg    0.09         NaN   \n",
              "1        /content/drive/MyDrive/fruitbox1/Image_2.jpg    0.09         NaN   \n",
              "2        /content/drive/MyDrive/fruitbox1/Image_3.jpg    0.09         NaN   \n",
              "3        /content/drive/MyDrive/fruitbox1/Image_4.jpg    0.09         NaN   \n",
              "4        /content/drive/MyDrive/fruitbox1/Image_5.jpg    0.09         NaN   \n",
              "...                                               ...     ...         ...   \n",
              "1071  /content/drive/MyDrive/fruitbox1/Image_1071.jpg    4.05         NaN   \n",
              "1072  /content/drive/MyDrive/fruitbox1/Image_1072.jpg    4.05         NaN   \n",
              "1073  /content/drive/MyDrive/fruitbox1/Image_1073.jpg    4.05         NaN   \n",
              "1074  /content/drive/MyDrive/fruitbox1/Image_1074.jpg    4.05         NaN   \n",
              "1075  /content/drive/MyDrive/fruitbox1/Image_1075.jpg    4.05         NaN   \n",
              "\n",
              "      Unnamed: 3  Unnamed: 4  \n",
              "0            NaN         NaN  \n",
              "1            NaN         NaN  \n",
              "2            NaN         NaN  \n",
              "3            NaN         NaN  \n",
              "4            NaN         NaN  \n",
              "...          ...         ...  \n",
              "1071         NaN         NaN  \n",
              "1072         NaN         NaN  \n",
              "1073         NaN         NaN  \n",
              "1074         NaN         NaN  \n",
              "1075         NaN         NaN  \n",
              "\n",
              "[1076 rows x 5 columns]"
            ],
            "text/html": [
              "\n",
              "  <div id=\"df-a68c3613-55f7-4a33-abe6-096ace7771b1\">\n",
              "    <div class=\"colab-df-container\">\n",
              "      <div>\n",
              "<style scoped>\n",
              "    .dataframe tbody tr th:only-of-type {\n",
              "        vertical-align: middle;\n",
              "    }\n",
              "\n",
              "    .dataframe tbody tr th {\n",
              "        vertical-align: top;\n",
              "    }\n",
              "\n",
              "    .dataframe thead th {\n",
              "        text-align: right;\n",
              "    }\n",
              "</style>\n",
              "<table border=\"1\" class=\"dataframe\">\n",
              "  <thead>\n",
              "    <tr style=\"text-align: right;\">\n",
              "      <th></th>\n",
              "      <th>filepath</th>\n",
              "      <th>weight</th>\n",
              "      <th>Unnamed: 2</th>\n",
              "      <th>Unnamed: 3</th>\n",
              "      <th>Unnamed: 4</th>\n",
              "    </tr>\n",
              "  </thead>\n",
              "  <tbody>\n",
              "    <tr>\n",
              "      <th>0</th>\n",
              "      <td>/content/drive/MyDrive/fruitbox1/Image_1.jpg</td>\n",
              "      <td>0.09</td>\n",
              "      <td>NaN</td>\n",
              "      <td>NaN</td>\n",
              "      <td>NaN</td>\n",
              "    </tr>\n",
              "    <tr>\n",
              "      <th>1</th>\n",
              "      <td>/content/drive/MyDrive/fruitbox1/Image_2.jpg</td>\n",
              "      <td>0.09</td>\n",
              "      <td>NaN</td>\n",
              "      <td>NaN</td>\n",
              "      <td>NaN</td>\n",
              "    </tr>\n",
              "    <tr>\n",
              "      <th>2</th>\n",
              "      <td>/content/drive/MyDrive/fruitbox1/Image_3.jpg</td>\n",
              "      <td>0.09</td>\n",
              "      <td>NaN</td>\n",
              "      <td>NaN</td>\n",
              "      <td>NaN</td>\n",
              "    </tr>\n",
              "    <tr>\n",
              "      <th>3</th>\n",
              "      <td>/content/drive/MyDrive/fruitbox1/Image_4.jpg</td>\n",
              "      <td>0.09</td>\n",
              "      <td>NaN</td>\n",
              "      <td>NaN</td>\n",
              "      <td>NaN</td>\n",
              "    </tr>\n",
              "    <tr>\n",
              "      <th>4</th>\n",
              "      <td>/content/drive/MyDrive/fruitbox1/Image_5.jpg</td>\n",
              "      <td>0.09</td>\n",
              "      <td>NaN</td>\n",
              "      <td>NaN</td>\n",
              "      <td>NaN</td>\n",
              "    </tr>\n",
              "    <tr>\n",
              "      <th>...</th>\n",
              "      <td>...</td>\n",
              "      <td>...</td>\n",
              "      <td>...</td>\n",
              "      <td>...</td>\n",
              "      <td>...</td>\n",
              "    </tr>\n",
              "    <tr>\n",
              "      <th>1071</th>\n",
              "      <td>/content/drive/MyDrive/fruitbox1/Image_1071.jpg</td>\n",
              "      <td>4.05</td>\n",
              "      <td>NaN</td>\n",
              "      <td>NaN</td>\n",
              "      <td>NaN</td>\n",
              "    </tr>\n",
              "    <tr>\n",
              "      <th>1072</th>\n",
              "      <td>/content/drive/MyDrive/fruitbox1/Image_1072.jpg</td>\n",
              "      <td>4.05</td>\n",
              "      <td>NaN</td>\n",
              "      <td>NaN</td>\n",
              "      <td>NaN</td>\n",
              "    </tr>\n",
              "    <tr>\n",
              "      <th>1073</th>\n",
              "      <td>/content/drive/MyDrive/fruitbox1/Image_1073.jpg</td>\n",
              "      <td>4.05</td>\n",
              "      <td>NaN</td>\n",
              "      <td>NaN</td>\n",
              "      <td>NaN</td>\n",
              "    </tr>\n",
              "    <tr>\n",
              "      <th>1074</th>\n",
              "      <td>/content/drive/MyDrive/fruitbox1/Image_1074.jpg</td>\n",
              "      <td>4.05</td>\n",
              "      <td>NaN</td>\n",
              "      <td>NaN</td>\n",
              "      <td>NaN</td>\n",
              "    </tr>\n",
              "    <tr>\n",
              "      <th>1075</th>\n",
              "      <td>/content/drive/MyDrive/fruitbox1/Image_1075.jpg</td>\n",
              "      <td>4.05</td>\n",
              "      <td>NaN</td>\n",
              "      <td>NaN</td>\n",
              "      <td>NaN</td>\n",
              "    </tr>\n",
              "  </tbody>\n",
              "</table>\n",
              "<p>1076 rows × 5 columns</p>\n",
              "</div>\n",
              "      <button class=\"colab-df-convert\" onclick=\"convertToInteractive('df-a68c3613-55f7-4a33-abe6-096ace7771b1')\"\n",
              "              title=\"Convert this dataframe to an interactive table.\"\n",
              "              style=\"display:none;\">\n",
              "        \n",
              "  <svg xmlns=\"http://www.w3.org/2000/svg\" height=\"24px\"viewBox=\"0 0 24 24\"\n",
              "       width=\"24px\">\n",
              "    <path d=\"M0 0h24v24H0V0z\" fill=\"none\"/>\n",
              "    <path d=\"M18.56 5.44l.94 2.06.94-2.06 2.06-.94-2.06-.94-.94-2.06-.94 2.06-2.06.94zm-11 1L8.5 8.5l.94-2.06 2.06-.94-2.06-.94L8.5 2.5l-.94 2.06-2.06.94zm10 10l.94 2.06.94-2.06 2.06-.94-2.06-.94-.94-2.06-.94 2.06-2.06.94z\"/><path d=\"M17.41 7.96l-1.37-1.37c-.4-.4-.92-.59-1.43-.59-.52 0-1.04.2-1.43.59L10.3 9.45l-7.72 7.72c-.78.78-.78 2.05 0 2.83L4 21.41c.39.39.9.59 1.41.59.51 0 1.02-.2 1.41-.59l7.78-7.78 2.81-2.81c.8-.78.8-2.07 0-2.86zM5.41 20L4 18.59l7.72-7.72 1.47 1.35L5.41 20z\"/>\n",
              "  </svg>\n",
              "      </button>\n",
              "      \n",
              "  <style>\n",
              "    .colab-df-container {\n",
              "      display:flex;\n",
              "      flex-wrap:wrap;\n",
              "      gap: 12px;\n",
              "    }\n",
              "\n",
              "    .colab-df-convert {\n",
              "      background-color: #E8F0FE;\n",
              "      border: none;\n",
              "      border-radius: 50%;\n",
              "      cursor: pointer;\n",
              "      display: none;\n",
              "      fill: #1967D2;\n",
              "      height: 32px;\n",
              "      padding: 0 0 0 0;\n",
              "      width: 32px;\n",
              "    }\n",
              "\n",
              "    .colab-df-convert:hover {\n",
              "      background-color: #E2EBFA;\n",
              "      box-shadow: 0px 1px 2px rgba(60, 64, 67, 0.3), 0px 1px 3px 1px rgba(60, 64, 67, 0.15);\n",
              "      fill: #174EA6;\n",
              "    }\n",
              "\n",
              "    [theme=dark] .colab-df-convert {\n",
              "      background-color: #3B4455;\n",
              "      fill: #D2E3FC;\n",
              "    }\n",
              "\n",
              "    [theme=dark] .colab-df-convert:hover {\n",
              "      background-color: #434B5C;\n",
              "      box-shadow: 0px 1px 3px 1px rgba(0, 0, 0, 0.15);\n",
              "      filter: drop-shadow(0px 1px 2px rgba(0, 0, 0, 0.3));\n",
              "      fill: #FFFFFF;\n",
              "    }\n",
              "  </style>\n",
              "\n",
              "      <script>\n",
              "        const buttonEl =\n",
              "          document.querySelector('#df-a68c3613-55f7-4a33-abe6-096ace7771b1 button.colab-df-convert');\n",
              "        buttonEl.style.display =\n",
              "          google.colab.kernel.accessAllowed ? 'block' : 'none';\n",
              "\n",
              "        async function convertToInteractive(key) {\n",
              "          const element = document.querySelector('#df-a68c3613-55f7-4a33-abe6-096ace7771b1');\n",
              "          const dataTable =\n",
              "            await google.colab.kernel.invokeFunction('convertToInteractive',\n",
              "                                                     [key], {});\n",
              "          if (!dataTable) return;\n",
              "\n",
              "          const docLinkHtml = 'Like what you see? Visit the ' +\n",
              "            '<a target=\"_blank\" href=https://colab.research.google.com/notebooks/data_table.ipynb>data table notebook</a>'\n",
              "            + ' to learn more about interactive tables.';\n",
              "          element.innerHTML = '';\n",
              "          dataTable['output_type'] = 'display_data';\n",
              "          await google.colab.output.renderOutput(dataTable, element);\n",
              "          const docLink = document.createElement('div');\n",
              "          docLink.innerHTML = docLinkHtml;\n",
              "          element.appendChild(docLink);\n",
              "        }\n",
              "      </script>\n",
              "    </div>\n",
              "  </div>\n",
              "  "
            ]
          },
          "metadata": {},
          "execution_count": 9
        }
      ]
    },
    {
      "cell_type": "markdown",
      "source": [
        "priting the list"
      ],
      "metadata": {
        "id": "Ss0irD2YF2yw"
      }
    },
    {
      "cell_type": "code",
      "source": [
        "# Let's only use 5000 images to speed up training time\n",
        "#image_df = images.sample(50, random_state=1).reset_index(drop=True)\n",
        "\n",
        "train_df, test_df = train_test_split(images, train_size=0.7, shuffle=True, random_state=1)"
      ],
      "metadata": {
        "id": "MZoaLwCrPoe3"
      },
      "execution_count": null,
      "outputs": []
    },
    {
      "cell_type": "code",
      "source": [
        "train_df"
      ],
      "metadata": {
        "colab": {
          "base_uri": "https://localhost:8080/",
          "height": 423
        },
        "id": "stcNKcnWId-1",
        "outputId": "4ce944b7-a4be-4ef8-f8cb-b1515c90f490"
      },
      "execution_count": null,
      "outputs": [
        {
          "output_type": "execute_result",
          "data": {
            "text/plain": [
              "                                            filepath  weight  Unnamed: 2  \\\n",
              "819   /content/drive/MyDrive/fruitbox1/Image_574.jpg   1.020         NaN   \n",
              "1010  /content/drive/MyDrive/fruitbox1/Image_774.jpg   3.180         NaN   \n",
              "579   /content/drive/MyDrive/fruitbox1/Image_894.jpg   4.050         NaN   \n",
              "345   /content/drive/MyDrive/fruitbox1/Image_977.jpg   1.725         NaN   \n",
              "403   /content/drive/MyDrive/fruitbox1/Image_704.jpg   2.550         NaN   \n",
              "...                                              ...     ...         ...   \n",
              "847   /content/drive/MyDrive/fruitbox1/Image_271.jpg   0.460         NaN   \n",
              "715   /content/drive/MyDrive/fruitbox1/Image_794.jpg   3.265         NaN   \n",
              "905   /content/drive/MyDrive/fruitbox1/Image_869.jpg   3.830         NaN   \n",
              "235   /content/drive/MyDrive/fruitbox1/Image_511.jpg   2.030         NaN   \n",
              "1061  /content/drive/MyDrive/fruitbox1/Image_252.jpg   0.105         NaN   \n",
              "\n",
              "      Unnamed: 3  Unnamed: 4  \n",
              "819          NaN         NaN  \n",
              "1010         NaN         NaN  \n",
              "579          NaN         NaN  \n",
              "345          NaN         NaN  \n",
              "403          NaN         NaN  \n",
              "...          ...         ...  \n",
              "847          NaN         NaN  \n",
              "715          NaN         NaN  \n",
              "905          NaN         NaN  \n",
              "235          NaN         NaN  \n",
              "1061         NaN         NaN  \n",
              "\n",
              "[753 rows x 5 columns]"
            ],
            "text/html": [
              "\n",
              "  <div id=\"df-1f4b107b-07dd-45d3-858a-3d3c07afb32b\">\n",
              "    <div class=\"colab-df-container\">\n",
              "      <div>\n",
              "<style scoped>\n",
              "    .dataframe tbody tr th:only-of-type {\n",
              "        vertical-align: middle;\n",
              "    }\n",
              "\n",
              "    .dataframe tbody tr th {\n",
              "        vertical-align: top;\n",
              "    }\n",
              "\n",
              "    .dataframe thead th {\n",
              "        text-align: right;\n",
              "    }\n",
              "</style>\n",
              "<table border=\"1\" class=\"dataframe\">\n",
              "  <thead>\n",
              "    <tr style=\"text-align: right;\">\n",
              "      <th></th>\n",
              "      <th>filepath</th>\n",
              "      <th>weight</th>\n",
              "      <th>Unnamed: 2</th>\n",
              "      <th>Unnamed: 3</th>\n",
              "      <th>Unnamed: 4</th>\n",
              "    </tr>\n",
              "  </thead>\n",
              "  <tbody>\n",
              "    <tr>\n",
              "      <th>819</th>\n",
              "      <td>/content/drive/MyDrive/fruitbox1/Image_574.jpg</td>\n",
              "      <td>1.020</td>\n",
              "      <td>NaN</td>\n",
              "      <td>NaN</td>\n",
              "      <td>NaN</td>\n",
              "    </tr>\n",
              "    <tr>\n",
              "      <th>1010</th>\n",
              "      <td>/content/drive/MyDrive/fruitbox1/Image_774.jpg</td>\n",
              "      <td>3.180</td>\n",
              "      <td>NaN</td>\n",
              "      <td>NaN</td>\n",
              "      <td>NaN</td>\n",
              "    </tr>\n",
              "    <tr>\n",
              "      <th>579</th>\n",
              "      <td>/content/drive/MyDrive/fruitbox1/Image_894.jpg</td>\n",
              "      <td>4.050</td>\n",
              "      <td>NaN</td>\n",
              "      <td>NaN</td>\n",
              "      <td>NaN</td>\n",
              "    </tr>\n",
              "    <tr>\n",
              "      <th>345</th>\n",
              "      <td>/content/drive/MyDrive/fruitbox1/Image_977.jpg</td>\n",
              "      <td>1.725</td>\n",
              "      <td>NaN</td>\n",
              "      <td>NaN</td>\n",
              "      <td>NaN</td>\n",
              "    </tr>\n",
              "    <tr>\n",
              "      <th>403</th>\n",
              "      <td>/content/drive/MyDrive/fruitbox1/Image_704.jpg</td>\n",
              "      <td>2.550</td>\n",
              "      <td>NaN</td>\n",
              "      <td>NaN</td>\n",
              "      <td>NaN</td>\n",
              "    </tr>\n",
              "    <tr>\n",
              "      <th>...</th>\n",
              "      <td>...</td>\n",
              "      <td>...</td>\n",
              "      <td>...</td>\n",
              "      <td>...</td>\n",
              "      <td>...</td>\n",
              "    </tr>\n",
              "    <tr>\n",
              "      <th>847</th>\n",
              "      <td>/content/drive/MyDrive/fruitbox1/Image_271.jpg</td>\n",
              "      <td>0.460</td>\n",
              "      <td>NaN</td>\n",
              "      <td>NaN</td>\n",
              "      <td>NaN</td>\n",
              "    </tr>\n",
              "    <tr>\n",
              "      <th>715</th>\n",
              "      <td>/content/drive/MyDrive/fruitbox1/Image_794.jpg</td>\n",
              "      <td>3.265</td>\n",
              "      <td>NaN</td>\n",
              "      <td>NaN</td>\n",
              "      <td>NaN</td>\n",
              "    </tr>\n",
              "    <tr>\n",
              "      <th>905</th>\n",
              "      <td>/content/drive/MyDrive/fruitbox1/Image_869.jpg</td>\n",
              "      <td>3.830</td>\n",
              "      <td>NaN</td>\n",
              "      <td>NaN</td>\n",
              "      <td>NaN</td>\n",
              "    </tr>\n",
              "    <tr>\n",
              "      <th>235</th>\n",
              "      <td>/content/drive/MyDrive/fruitbox1/Image_511.jpg</td>\n",
              "      <td>2.030</td>\n",
              "      <td>NaN</td>\n",
              "      <td>NaN</td>\n",
              "      <td>NaN</td>\n",
              "    </tr>\n",
              "    <tr>\n",
              "      <th>1061</th>\n",
              "      <td>/content/drive/MyDrive/fruitbox1/Image_252.jpg</td>\n",
              "      <td>0.105</td>\n",
              "      <td>NaN</td>\n",
              "      <td>NaN</td>\n",
              "      <td>NaN</td>\n",
              "    </tr>\n",
              "  </tbody>\n",
              "</table>\n",
              "<p>753 rows × 5 columns</p>\n",
              "</div>\n",
              "      <button class=\"colab-df-convert\" onclick=\"convertToInteractive('df-1f4b107b-07dd-45d3-858a-3d3c07afb32b')\"\n",
              "              title=\"Convert this dataframe to an interactive table.\"\n",
              "              style=\"display:none;\">\n",
              "        \n",
              "  <svg xmlns=\"http://www.w3.org/2000/svg\" height=\"24px\"viewBox=\"0 0 24 24\"\n",
              "       width=\"24px\">\n",
              "    <path d=\"M0 0h24v24H0V0z\" fill=\"none\"/>\n",
              "    <path d=\"M18.56 5.44l.94 2.06.94-2.06 2.06-.94-2.06-.94-.94-2.06-.94 2.06-2.06.94zm-11 1L8.5 8.5l.94-2.06 2.06-.94-2.06-.94L8.5 2.5l-.94 2.06-2.06.94zm10 10l.94 2.06.94-2.06 2.06-.94-2.06-.94-.94-2.06-.94 2.06-2.06.94z\"/><path d=\"M17.41 7.96l-1.37-1.37c-.4-.4-.92-.59-1.43-.59-.52 0-1.04.2-1.43.59L10.3 9.45l-7.72 7.72c-.78.78-.78 2.05 0 2.83L4 21.41c.39.39.9.59 1.41.59.51 0 1.02-.2 1.41-.59l7.78-7.78 2.81-2.81c.8-.78.8-2.07 0-2.86zM5.41 20L4 18.59l7.72-7.72 1.47 1.35L5.41 20z\"/>\n",
              "  </svg>\n",
              "      </button>\n",
              "      \n",
              "  <style>\n",
              "    .colab-df-container {\n",
              "      display:flex;\n",
              "      flex-wrap:wrap;\n",
              "      gap: 12px;\n",
              "    }\n",
              "\n",
              "    .colab-df-convert {\n",
              "      background-color: #E8F0FE;\n",
              "      border: none;\n",
              "      border-radius: 50%;\n",
              "      cursor: pointer;\n",
              "      display: none;\n",
              "      fill: #1967D2;\n",
              "      height: 32px;\n",
              "      padding: 0 0 0 0;\n",
              "      width: 32px;\n",
              "    }\n",
              "\n",
              "    .colab-df-convert:hover {\n",
              "      background-color: #E2EBFA;\n",
              "      box-shadow: 0px 1px 2px rgba(60, 64, 67, 0.3), 0px 1px 3px 1px rgba(60, 64, 67, 0.15);\n",
              "      fill: #174EA6;\n",
              "    }\n",
              "\n",
              "    [theme=dark] .colab-df-convert {\n",
              "      background-color: #3B4455;\n",
              "      fill: #D2E3FC;\n",
              "    }\n",
              "\n",
              "    [theme=dark] .colab-df-convert:hover {\n",
              "      background-color: #434B5C;\n",
              "      box-shadow: 0px 1px 3px 1px rgba(0, 0, 0, 0.15);\n",
              "      filter: drop-shadow(0px 1px 2px rgba(0, 0, 0, 0.3));\n",
              "      fill: #FFFFFF;\n",
              "    }\n",
              "  </style>\n",
              "\n",
              "      <script>\n",
              "        const buttonEl =\n",
              "          document.querySelector('#df-1f4b107b-07dd-45d3-858a-3d3c07afb32b button.colab-df-convert');\n",
              "        buttonEl.style.display =\n",
              "          google.colab.kernel.accessAllowed ? 'block' : 'none';\n",
              "\n",
              "        async function convertToInteractive(key) {\n",
              "          const element = document.querySelector('#df-1f4b107b-07dd-45d3-858a-3d3c07afb32b');\n",
              "          const dataTable =\n",
              "            await google.colab.kernel.invokeFunction('convertToInteractive',\n",
              "                                                     [key], {});\n",
              "          if (!dataTable) return;\n",
              "\n",
              "          const docLinkHtml = 'Like what you see? Visit the ' +\n",
              "            '<a target=\"_blank\" href=https://colab.research.google.com/notebooks/data_table.ipynb>data table notebook</a>'\n",
              "            + ' to learn more about interactive tables.';\n",
              "          element.innerHTML = '';\n",
              "          dataTable['output_type'] = 'display_data';\n",
              "          await google.colab.output.renderOutput(dataTable, element);\n",
              "          const docLink = document.createElement('div');\n",
              "          docLink.innerHTML = docLinkHtml;\n",
              "          element.appendChild(docLink);\n",
              "        }\n",
              "      </script>\n",
              "    </div>\n",
              "  </div>\n",
              "  "
            ]
          },
          "metadata": {},
          "execution_count": 10
        }
      ]
    },
    {
      "cell_type": "code",
      "source": [
        "test_df"
      ],
      "metadata": {
        "colab": {
          "base_uri": "https://localhost:8080/",
          "height": 423
        },
        "id": "UXYl_tvasCaf",
        "outputId": "4753b73b-1567-4bbd-e332-5770224aadf0"
      },
      "execution_count": null,
      "outputs": [
        {
          "output_type": "execute_result",
          "data": {
            "text/plain": [
              "                                             filepath  weight  Unnamed: 2  \\\n",
              "776    /content/drive/MyDrive/fruitbox1/Image_809.jpg   3.335         NaN   \n",
              "683   /content/drive/MyDrive/fruitbox1/Image_1037.jpg   3.200         NaN   \n",
              "912    /content/drive/MyDrive/fruitbox1/Image_535.jpg   0.810         NaN   \n",
              "215    /content/drive/MyDrive/fruitbox1/Image_906.jpg   4.050         NaN   \n",
              "1075  /content/drive/MyDrive/fruitbox1/Image_1061.jpg   3.825         NaN   \n",
              "...                                               ...     ...         ...   \n",
              "250    /content/drive/MyDrive/fruitbox1/Image_923.jpg   0.335         NaN   \n",
              "282    /content/drive/MyDrive/fruitbox1/Image_666.jpg   2.115         NaN   \n",
              "268    /content/drive/MyDrive/fruitbox1/Image_566.jpg   0.950         NaN   \n",
              "1018   /content/drive/MyDrive/fruitbox1/Image_694.jpg   2.450         NaN   \n",
              "856    /content/drive/MyDrive/fruitbox1/Image_590.jpg   1.235         NaN   \n",
              "\n",
              "      Unnamed: 3  Unnamed: 4  \n",
              "776          NaN         NaN  \n",
              "683          NaN         NaN  \n",
              "912          NaN         NaN  \n",
              "215          NaN         NaN  \n",
              "1075         NaN         NaN  \n",
              "...          ...         ...  \n",
              "250          NaN         NaN  \n",
              "282          NaN         NaN  \n",
              "268          NaN         NaN  \n",
              "1018         NaN         NaN  \n",
              "856          NaN         NaN  \n",
              "\n",
              "[323 rows x 5 columns]"
            ],
            "text/html": [
              "\n",
              "  <div id=\"df-54e66ef4-2442-436e-a81b-048e6d9f53fb\">\n",
              "    <div class=\"colab-df-container\">\n",
              "      <div>\n",
              "<style scoped>\n",
              "    .dataframe tbody tr th:only-of-type {\n",
              "        vertical-align: middle;\n",
              "    }\n",
              "\n",
              "    .dataframe tbody tr th {\n",
              "        vertical-align: top;\n",
              "    }\n",
              "\n",
              "    .dataframe thead th {\n",
              "        text-align: right;\n",
              "    }\n",
              "</style>\n",
              "<table border=\"1\" class=\"dataframe\">\n",
              "  <thead>\n",
              "    <tr style=\"text-align: right;\">\n",
              "      <th></th>\n",
              "      <th>filepath</th>\n",
              "      <th>weight</th>\n",
              "      <th>Unnamed: 2</th>\n",
              "      <th>Unnamed: 3</th>\n",
              "      <th>Unnamed: 4</th>\n",
              "    </tr>\n",
              "  </thead>\n",
              "  <tbody>\n",
              "    <tr>\n",
              "      <th>776</th>\n",
              "      <td>/content/drive/MyDrive/fruitbox1/Image_809.jpg</td>\n",
              "      <td>3.335</td>\n",
              "      <td>NaN</td>\n",
              "      <td>NaN</td>\n",
              "      <td>NaN</td>\n",
              "    </tr>\n",
              "    <tr>\n",
              "      <th>683</th>\n",
              "      <td>/content/drive/MyDrive/fruitbox1/Image_1037.jpg</td>\n",
              "      <td>3.200</td>\n",
              "      <td>NaN</td>\n",
              "      <td>NaN</td>\n",
              "      <td>NaN</td>\n",
              "    </tr>\n",
              "    <tr>\n",
              "      <th>912</th>\n",
              "      <td>/content/drive/MyDrive/fruitbox1/Image_535.jpg</td>\n",
              "      <td>0.810</td>\n",
              "      <td>NaN</td>\n",
              "      <td>NaN</td>\n",
              "      <td>NaN</td>\n",
              "    </tr>\n",
              "    <tr>\n",
              "      <th>215</th>\n",
              "      <td>/content/drive/MyDrive/fruitbox1/Image_906.jpg</td>\n",
              "      <td>4.050</td>\n",
              "      <td>NaN</td>\n",
              "      <td>NaN</td>\n",
              "      <td>NaN</td>\n",
              "    </tr>\n",
              "    <tr>\n",
              "      <th>1075</th>\n",
              "      <td>/content/drive/MyDrive/fruitbox1/Image_1061.jpg</td>\n",
              "      <td>3.825</td>\n",
              "      <td>NaN</td>\n",
              "      <td>NaN</td>\n",
              "      <td>NaN</td>\n",
              "    </tr>\n",
              "    <tr>\n",
              "      <th>...</th>\n",
              "      <td>...</td>\n",
              "      <td>...</td>\n",
              "      <td>...</td>\n",
              "      <td>...</td>\n",
              "      <td>...</td>\n",
              "    </tr>\n",
              "    <tr>\n",
              "      <th>250</th>\n",
              "      <td>/content/drive/MyDrive/fruitbox1/Image_923.jpg</td>\n",
              "      <td>0.335</td>\n",
              "      <td>NaN</td>\n",
              "      <td>NaN</td>\n",
              "      <td>NaN</td>\n",
              "    </tr>\n",
              "    <tr>\n",
              "      <th>282</th>\n",
              "      <td>/content/drive/MyDrive/fruitbox1/Image_666.jpg</td>\n",
              "      <td>2.115</td>\n",
              "      <td>NaN</td>\n",
              "      <td>NaN</td>\n",
              "      <td>NaN</td>\n",
              "    </tr>\n",
              "    <tr>\n",
              "      <th>268</th>\n",
              "      <td>/content/drive/MyDrive/fruitbox1/Image_566.jpg</td>\n",
              "      <td>0.950</td>\n",
              "      <td>NaN</td>\n",
              "      <td>NaN</td>\n",
              "      <td>NaN</td>\n",
              "    </tr>\n",
              "    <tr>\n",
              "      <th>1018</th>\n",
              "      <td>/content/drive/MyDrive/fruitbox1/Image_694.jpg</td>\n",
              "      <td>2.450</td>\n",
              "      <td>NaN</td>\n",
              "      <td>NaN</td>\n",
              "      <td>NaN</td>\n",
              "    </tr>\n",
              "    <tr>\n",
              "      <th>856</th>\n",
              "      <td>/content/drive/MyDrive/fruitbox1/Image_590.jpg</td>\n",
              "      <td>1.235</td>\n",
              "      <td>NaN</td>\n",
              "      <td>NaN</td>\n",
              "      <td>NaN</td>\n",
              "    </tr>\n",
              "  </tbody>\n",
              "</table>\n",
              "<p>323 rows × 5 columns</p>\n",
              "</div>\n",
              "      <button class=\"colab-df-convert\" onclick=\"convertToInteractive('df-54e66ef4-2442-436e-a81b-048e6d9f53fb')\"\n",
              "              title=\"Convert this dataframe to an interactive table.\"\n",
              "              style=\"display:none;\">\n",
              "        \n",
              "  <svg xmlns=\"http://www.w3.org/2000/svg\" height=\"24px\"viewBox=\"0 0 24 24\"\n",
              "       width=\"24px\">\n",
              "    <path d=\"M0 0h24v24H0V0z\" fill=\"none\"/>\n",
              "    <path d=\"M18.56 5.44l.94 2.06.94-2.06 2.06-.94-2.06-.94-.94-2.06-.94 2.06-2.06.94zm-11 1L8.5 8.5l.94-2.06 2.06-.94-2.06-.94L8.5 2.5l-.94 2.06-2.06.94zm10 10l.94 2.06.94-2.06 2.06-.94-2.06-.94-.94-2.06-.94 2.06-2.06.94z\"/><path d=\"M17.41 7.96l-1.37-1.37c-.4-.4-.92-.59-1.43-.59-.52 0-1.04.2-1.43.59L10.3 9.45l-7.72 7.72c-.78.78-.78 2.05 0 2.83L4 21.41c.39.39.9.59 1.41.59.51 0 1.02-.2 1.41-.59l7.78-7.78 2.81-2.81c.8-.78.8-2.07 0-2.86zM5.41 20L4 18.59l7.72-7.72 1.47 1.35L5.41 20z\"/>\n",
              "  </svg>\n",
              "      </button>\n",
              "      \n",
              "  <style>\n",
              "    .colab-df-container {\n",
              "      display:flex;\n",
              "      flex-wrap:wrap;\n",
              "      gap: 12px;\n",
              "    }\n",
              "\n",
              "    .colab-df-convert {\n",
              "      background-color: #E8F0FE;\n",
              "      border: none;\n",
              "      border-radius: 50%;\n",
              "      cursor: pointer;\n",
              "      display: none;\n",
              "      fill: #1967D2;\n",
              "      height: 32px;\n",
              "      padding: 0 0 0 0;\n",
              "      width: 32px;\n",
              "    }\n",
              "\n",
              "    .colab-df-convert:hover {\n",
              "      background-color: #E2EBFA;\n",
              "      box-shadow: 0px 1px 2px rgba(60, 64, 67, 0.3), 0px 1px 3px 1px rgba(60, 64, 67, 0.15);\n",
              "      fill: #174EA6;\n",
              "    }\n",
              "\n",
              "    [theme=dark] .colab-df-convert {\n",
              "      background-color: #3B4455;\n",
              "      fill: #D2E3FC;\n",
              "    }\n",
              "\n",
              "    [theme=dark] .colab-df-convert:hover {\n",
              "      background-color: #434B5C;\n",
              "      box-shadow: 0px 1px 3px 1px rgba(0, 0, 0, 0.15);\n",
              "      filter: drop-shadow(0px 1px 2px rgba(0, 0, 0, 0.3));\n",
              "      fill: #FFFFFF;\n",
              "    }\n",
              "  </style>\n",
              "\n",
              "      <script>\n",
              "        const buttonEl =\n",
              "          document.querySelector('#df-54e66ef4-2442-436e-a81b-048e6d9f53fb button.colab-df-convert');\n",
              "        buttonEl.style.display =\n",
              "          google.colab.kernel.accessAllowed ? 'block' : 'none';\n",
              "\n",
              "        async function convertToInteractive(key) {\n",
              "          const element = document.querySelector('#df-54e66ef4-2442-436e-a81b-048e6d9f53fb');\n",
              "          const dataTable =\n",
              "            await google.colab.kernel.invokeFunction('convertToInteractive',\n",
              "                                                     [key], {});\n",
              "          if (!dataTable) return;\n",
              "\n",
              "          const docLinkHtml = 'Like what you see? Visit the ' +\n",
              "            '<a target=\"_blank\" href=https://colab.research.google.com/notebooks/data_table.ipynb>data table notebook</a>'\n",
              "            + ' to learn more about interactive tables.';\n",
              "          element.innerHTML = '';\n",
              "          dataTable['output_type'] = 'display_data';\n",
              "          await google.colab.output.renderOutput(dataTable, element);\n",
              "          const docLink = document.createElement('div');\n",
              "          docLink.innerHTML = docLinkHtml;\n",
              "          element.appendChild(docLink);\n",
              "        }\n",
              "      </script>\n",
              "    </div>\n",
              "  </div>\n",
              "  "
            ]
          },
          "metadata": {},
          "execution_count": 12
        }
      ]
    },
    {
      "cell_type": "code",
      "source": [
        "train_generator = tf.keras.preprocessing.image.ImageDataGenerator(\n",
        "    rescale=1./255,\n",
        "    validation_split=0.2\n",
        ")\n",
        "\n",
        "test_generator = tf.keras.preprocessing.image.ImageDataGenerator(\n",
        "    rescale=1./255\n",
        ")"
      ],
      "metadata": {
        "id": "mvqY_et-Pxnb"
      },
      "execution_count": null,
      "outputs": []
    },
    {
      "cell_type": "markdown",
      "source": [
        "flow the images through the genarator"
      ],
      "metadata": {
        "id": "rMIToDBFI_33"
      }
    },
    {
      "cell_type": "code",
      "source": [
        "train_images = train_generator.flow_from_dataframe(\n",
        "    dataframe=train_df,\n",
        "    x_col='filepath',\n",
        "    y_col='weight',\n",
        "    target_size=(120, 120),\n",
        "    color_mode='rgb',\n",
        "    class_mode='raw',\n",
        "    batch_size=8,\n",
        "    shuffle=True,\n",
        "    seed=42,\n",
        "    subset='training'\n",
        ")\n",
        "\n",
        "val_images = train_generator.flow_from_dataframe(\n",
        "    dataframe=train_df,\n",
        "    x_col='filepath',\n",
        "    y_col='weight',\n",
        "    target_size=(120, 120),\n",
        "    color_mode='rgb',\n",
        "    class_mode='raw',\n",
        "    batch_size=8,\n",
        "    shuffle=True,\n",
        "    seed=42,\n",
        "    subset='validation'\n",
        ")\n",
        "\n",
        "test_images = test_generator.flow_from_dataframe(\n",
        "    dataframe=test_df,\n",
        "    x_col='filepath',\n",
        "    y_col='weight',\n",
        "    target_size=(120, 120),\n",
        "    color_mode='rgb',\n",
        "    class_mode='raw',\n",
        "    batch_size=8,\n",
        "    shuffle=False\n",
        ")"
      ],
      "metadata": {
        "colab": {
          "base_uri": "https://localhost:8080/"
        },
        "id": "1JyldZeyP4L9",
        "outputId": "b3db2b89-9d24-46ad-c758-ad3c61df81c1"
      },
      "execution_count": null,
      "outputs": [
        {
          "output_type": "stream",
          "name": "stdout",
          "text": [
            "Found 602 validated image filenames.\n",
            "Found 150 validated image filenames.\n",
            "Found 321 validated image filenames.\n"
          ]
        },
        {
          "output_type": "stream",
          "name": "stderr",
          "text": [
            "/usr/local/lib/python3.7/dist-packages/keras/preprocessing/image.py:991: UserWarning: Found 1 invalid image filename(s) in x_col=\"filepath\". These filename(s) will be ignored.\n",
            "  n_invalid, x_col))\n",
            "/usr/local/lib/python3.7/dist-packages/keras/preprocessing/image.py:991: UserWarning: Found 2 invalid image filename(s) in x_col=\"filepath\". These filename(s) will be ignored.\n",
            "  n_invalid, x_col))\n"
          ]
        }
      ]
    },
    {
      "cell_type": "code",
      "source": [
        "test_images"
      ],
      "metadata": {
        "colab": {
          "base_uri": "https://localhost:8080/"
        },
        "id": "QGk5CyWX3All",
        "outputId": "bb3ba4be-cc0f-4633-8c5b-e943ae5e8999"
      },
      "execution_count": null,
      "outputs": [
        {
          "output_type": "execute_result",
          "data": {
            "text/plain": [
              "<keras.preprocessing.image.DataFrameIterator at 0x7f363a407190>"
            ]
          },
          "metadata": {},
          "execution_count": 17
        }
      ]
    },
    {
      "cell_type": "markdown",
      "source": [
        "training"
      ],
      "metadata": {
        "id": "Ak2KUIknL9Di"
      }
    },
    {
      "cell_type": "code",
      "source": [
        "inputs = tf.keras.Input(shape=(120, 120, 3))\n",
        "x = tf.keras.layers.Conv2D(filters=16, kernel_size=(3, 3), activation='relu')(inputs)\n",
        "x = tf.keras.layers.MaxPool2D()(x)\n",
        "x = tf.keras.layers.Conv2D(filters=32, kernel_size=(3, 3), activation='relu')(x)\n",
        "x = tf.keras.layers.MaxPool2D()(x)\n",
        "x = tf.keras.layers.Conv2D(filters=64, kernel_size=(3, 3), activation='relu')(x)\n",
        "x = tf.keras.layers.MaxPool2D()(x)\n",
        "x = tf.keras.layers.GlobalAveragePooling2D()(x)\n",
        "x = tf.keras.layers.Dense(64, activation='relu')(x)\n",
        "x = tf.keras.layers.Dense(256, activation='relu')(x)\n",
        "outputs = tf.keras.layers.Dense(1, activation='linear')(x)\n",
        "\n",
        "model = tf.keras.Model(inputs=inputs, outputs=outputs)"
      ],
      "metadata": {
        "id": "3kFjt-m4HHYy"
      },
      "execution_count": null,
      "outputs": []
    },
    {
      "cell_type": "code",
      "source": [
        "model.summary()"
      ],
      "metadata": {
        "colab": {
          "base_uri": "https://localhost:8080/"
        },
        "id": "Ld_SeLn4HJXm",
        "outputId": "96047926-5948-4e95-8a66-9d346dc04598"
      },
      "execution_count": null,
      "outputs": [
        {
          "output_type": "stream",
          "name": "stdout",
          "text": [
            "Model: \"model\"\n",
            "_________________________________________________________________\n",
            " Layer (type)                Output Shape              Param #   \n",
            "=================================================================\n",
            " input_1 (InputLayer)        [(None, 120, 120, 3)]     0         \n",
            "                                                                 \n",
            " conv2d (Conv2D)             (None, 118, 118, 16)      448       \n",
            "                                                                 \n",
            " max_pooling2d (MaxPooling2D  (None, 59, 59, 16)       0         \n",
            " )                                                               \n",
            "                                                                 \n",
            " conv2d_1 (Conv2D)           (None, 57, 57, 32)        4640      \n",
            "                                                                 \n",
            " max_pooling2d_1 (MaxPooling  (None, 28, 28, 32)       0         \n",
            " 2D)                                                             \n",
            "                                                                 \n",
            " conv2d_2 (Conv2D)           (None, 26, 26, 64)        18496     \n",
            "                                                                 \n",
            " max_pooling2d_2 (MaxPooling  (None, 13, 13, 64)       0         \n",
            " 2D)                                                             \n",
            "                                                                 \n",
            " global_average_pooling2d (G  (None, 64)               0         \n",
            " lobalAveragePooling2D)                                          \n",
            "                                                                 \n",
            " dense (Dense)               (None, 64)                4160      \n",
            "                                                                 \n",
            " dense_1 (Dense)             (None, 256)               16640     \n",
            "                                                                 \n",
            " dense_2 (Dense)             (None, 1)                 257       \n",
            "                                                                 \n",
            "=================================================================\n",
            "Total params: 44,641\n",
            "Trainable params: 44,641\n",
            "Non-trainable params: 0\n",
            "_________________________________________________________________\n"
          ]
        }
      ]
    },
    {
      "cell_type": "code",
      "source": [
        "model = Sequential()\n",
        "model.add(Conv2D(filters = 16, kernel_size = (3, 3), activation='relu',\n",
        "                 input_shape = (120, 120, 3)))\n",
        "model.add(BatchNormalization())\n",
        "model.add(Conv2D(filters = 16, kernel_size = (3, 3), activation='relu'))\n",
        "model.add(BatchNormalization())\n",
        "model.add(MaxPool2D(strides=(2,2)))\n",
        "model.add(Dropout(0.25))\n",
        "model.add(Conv2D(filters = 32, kernel_size = (3, 3), activation='relu'))\n",
        "model.add(BatchNormalization())\n",
        "model.add(Conv2D(filters = 32, kernel_size = (3, 3), activation='relu'))\n",
        "model.add(BatchNormalization())\n",
        "model.add(MaxPool2D(strides=(2,2)))\n",
        "model.add(Dropout(0.25))\n",
        "model.add(Flatten())\n",
        "model.add(Dense(512, activation='relu'))\n",
        "model.add(Dropout(0.25))\n",
        "model.add(Dense(1024, activation='relu'))\n",
        "model.add(Dropout(0.4))\n",
        "#model.add(Dense(n_classes, activation='softmax'))\n",
        "model.add(Dense(1, activation='linear'))\n",
        "learning_rate = 0.001\n",
        "model.compile(loss = 'mse',\n",
        "              optimizer = Adam(learning_rate))\n",
        "model.summary()"
      ],
      "metadata": {
        "colab": {
          "base_uri": "https://localhost:8080/"
        },
        "id": "A9nVxEYnJ4qd",
        "outputId": "7952c641-5295-4105-b89d-10cd5e74db80"
      },
      "execution_count": null,
      "outputs": [
        {
          "output_type": "stream",
          "name": "stdout",
          "text": [
            "Model: \"sequential_1\"\n",
            "_________________________________________________________________\n",
            " Layer (type)                Output Shape              Param #   \n",
            "=================================================================\n",
            " conv2d_4 (Conv2D)           (None, 118, 118, 16)      448       \n",
            "                                                                 \n",
            " batch_normalization_4 (Batc  (None, 118, 118, 16)     64        \n",
            " hNormalization)                                                 \n",
            "                                                                 \n",
            " conv2d_5 (Conv2D)           (None, 116, 116, 16)      2320      \n",
            "                                                                 \n",
            " batch_normalization_5 (Batc  (None, 116, 116, 16)     64        \n",
            " hNormalization)                                                 \n",
            "                                                                 \n",
            " max_pooling2d_2 (MaxPooling  (None, 58, 58, 16)       0         \n",
            " 2D)                                                             \n",
            "                                                                 \n",
            " dropout_4 (Dropout)         (None, 58, 58, 16)        0         \n",
            "                                                                 \n",
            " conv2d_6 (Conv2D)           (None, 56, 56, 32)        4640      \n",
            "                                                                 \n",
            " batch_normalization_6 (Batc  (None, 56, 56, 32)       128       \n",
            " hNormalization)                                                 \n",
            "                                                                 \n",
            " conv2d_7 (Conv2D)           (None, 54, 54, 32)        9248      \n",
            "                                                                 \n",
            " batch_normalization_7 (Batc  (None, 54, 54, 32)       128       \n",
            " hNormalization)                                                 \n",
            "                                                                 \n",
            " max_pooling2d_3 (MaxPooling  (None, 27, 27, 32)       0         \n",
            " 2D)                                                             \n",
            "                                                                 \n",
            " dropout_5 (Dropout)         (None, 27, 27, 32)        0         \n",
            "                                                                 \n",
            " flatten_1 (Flatten)         (None, 23328)             0         \n",
            "                                                                 \n",
            " dense_3 (Dense)             (None, 512)               11944448  \n",
            "                                                                 \n",
            " dropout_6 (Dropout)         (None, 512)               0         \n",
            "                                                                 \n",
            " dense_4 (Dense)             (None, 1024)              525312    \n",
            "                                                                 \n",
            " dropout_7 (Dropout)         (None, 1024)              0         \n",
            "                                                                 \n",
            " dense_5 (Dense)             (None, 1)                 1025      \n",
            "                                                                 \n",
            "=================================================================\n",
            "Total params: 12,487,825\n",
            "Trainable params: 12,487,633\n",
            "Non-trainable params: 192\n",
            "_________________________________________________________________\n"
          ]
        }
      ]
    },
    {
      "cell_type": "code",
      "source": [
        "model = Sequential()\n",
        "model.add(ResNet50(include_top=True, weights='imagenet', input_shape=(224, 224, 3), pooling='avg'))\n",
        "model.add(Dense(1, activation='linear'))\n",
        "model.summary()"
      ],
      "metadata": {
        "colab": {
          "base_uri": "https://localhost:8080/"
        },
        "id": "sQ09XVP6vB2d",
        "outputId": "57072c8e-234b-4eb0-9e7c-80fdf8fec844"
      },
      "execution_count": null,
      "outputs": [
        {
          "output_type": "stream",
          "name": "stdout",
          "text": [
            "Downloading data from https://storage.googleapis.com/tensorflow/keras-applications/resnet/resnet50_weights_tf_dim_ordering_tf_kernels.h5\n",
            "102967424/102967424 [==============================] - 1s 0us/step\n",
            "Model: \"sequential\"\n",
            "_________________________________________________________________\n",
            " Layer (type)                Output Shape              Param #   \n",
            "=================================================================\n",
            " resnet50 (Functional)       (None, 1000)              25636712  \n",
            "                                                                 \n",
            " dense (Dense)               (None, 1)                 1001      \n",
            "                                                                 \n",
            "=================================================================\n",
            "Total params: 25,637,713\n",
            "Trainable params: 25,584,593\n",
            "Non-trainable params: 53,120\n",
            "_________________________________________________________________\n"
          ]
        }
      ]
    },
    {
      "cell_type": "code",
      "source": [
        "model.compile(\n",
        "    optimizer='adam',\n",
        "    loss='mse',\n",
        "\n",
        ")\n",
        "\n",
        "history = model.fit(\n",
        "    train_images,\n",
        "    validation_data=val_images,\n",
        "    epochs=100,\n",
        "    callbacks=[\n",
        "        tf.keras.callbacks.EarlyStopping(\n",
        "            monitor='val_loss',\n",
        "            patience=5,\n",
        "            restore_best_weights=True\n",
        "        )\n",
        "    ]\n",
        ")"
      ],
      "metadata": {
        "id": "Q0hZ0haKQQ9H",
        "colab": {
          "base_uri": "https://localhost:8080/"
        },
        "outputId": "c470361b-92d6-4a19-c9af-0f1158968b9d"
      },
      "execution_count": null,
      "outputs": [
        {
          "output_type": "stream",
          "name": "stdout",
          "text": [
            "Epoch 1/100\n",
            "76/76 [==============================] - 711s 9s/step - loss: 4.8815 - val_loss: 4.4076\n",
            "Epoch 2/100\n",
            "76/76 [==============================] - 139s 2s/step - loss: 4.2952 - val_loss: 3.8966\n",
            "Epoch 3/100\n",
            "76/76 [==============================] - 139s 2s/step - loss: 3.8248 - val_loss: 3.4727\n",
            "Epoch 4/100\n",
            "76/76 [==============================] - 138s 2s/step - loss: 3.4237 - val_loss: 3.1038\n",
            "Epoch 5/100\n",
            "76/76 [==============================] - 138s 2s/step - loss: 3.0779 - val_loss: 2.7904\n",
            "Epoch 6/100\n",
            "76/76 [==============================] - 137s 2s/step - loss: 2.7843 - val_loss: 2.5211\n",
            "Epoch 7/100\n",
            "76/76 [==============================] - 138s 2s/step - loss: 2.5328 - val_loss: 2.2957\n",
            "Epoch 8/100\n",
            "76/76 [==============================] - 137s 2s/step - loss: 2.3222 - val_loss: 2.1083\n",
            "Epoch 9/100\n",
            "76/76 [==============================] - 138s 2s/step - loss: 2.1446 - val_loss: 1.9528\n",
            "Epoch 10/100\n",
            "76/76 [==============================] - 135s 2s/step - loss: 1.9996 - val_loss: 1.8209\n",
            "Epoch 11/100\n",
            "76/76 [==============================] - 136s 2s/step - loss: 1.8790 - val_loss: 1.7138\n",
            "Epoch 12/100\n",
            "76/76 [==============================] - 136s 2s/step - loss: 1.7805 - val_loss: 1.6291\n",
            "Epoch 13/100\n",
            "76/76 [==============================] - 137s 2s/step - loss: 1.7007 - val_loss: 1.5595\n",
            "Epoch 14/100\n",
            "76/76 [==============================] - 140s 2s/step - loss: 1.6372 - val_loss: 1.5063\n",
            "Epoch 15/100\n",
            "76/76 [==============================] - 138s 2s/step - loss: 1.5879 - val_loss: 1.4673\n",
            "Epoch 16/100\n",
            "76/76 [==============================] - 139s 2s/step - loss: 1.5497 - val_loss: 1.4330\n",
            "Epoch 17/100\n",
            "76/76 [==============================] - 140s 2s/step - loss: 1.5197 - val_loss: 1.4084\n",
            "Epoch 18/100\n",
            "76/76 [==============================] - 137s 2s/step - loss: 1.4969 - val_loss: 1.3915\n",
            "Epoch 19/100\n",
            "76/76 [==============================] - 138s 2s/step - loss: 1.4805 - val_loss: 1.3795\n",
            "Epoch 20/100\n",
            "76/76 [==============================] - 138s 2s/step - loss: 1.4678 - val_loss: 1.3685\n",
            "Epoch 21/100\n",
            "76/76 [==============================] - 139s 2s/step - loss: 1.4585 - val_loss: 1.3622\n",
            "Epoch 22/100\n",
            "76/76 [==============================] - 139s 2s/step - loss: 1.4521 - val_loss: 1.3571\n",
            "Epoch 23/100\n",
            "76/76 [==============================] - 139s 2s/step - loss: 1.4473 - val_loss: 1.3545\n",
            "Epoch 24/100\n",
            "76/76 [==============================] - 138s 2s/step - loss: 1.4447 - val_loss: 1.3519\n",
            "Epoch 25/100\n",
            "76/76 [==============================] - 138s 2s/step - loss: 1.4424 - val_loss: 1.3511\n",
            "Epoch 26/100\n",
            "76/76 [==============================] - 137s 2s/step - loss: 1.4410 - val_loss: 1.3501\n",
            "Epoch 27/100\n",
            "76/76 [==============================] - 137s 2s/step - loss: 1.4403 - val_loss: 1.3497\n",
            "Epoch 28/100\n",
            "76/76 [==============================] - 137s 2s/step - loss: 1.3903 - val_loss: 2.1872\n",
            "Epoch 29/100\n",
            "76/76 [==============================] - 136s 2s/step - loss: 1.2657 - val_loss: 2.0350\n",
            "Epoch 30/100\n",
            "76/76 [==============================] - 137s 2s/step - loss: 1.3340 - val_loss: 1.8302\n",
            "Epoch 31/100\n",
            "76/76 [==============================] - 135s 2s/step - loss: 1.1400 - val_loss: 1.3862\n",
            "Epoch 32/100\n",
            "76/76 [==============================] - 137s 2s/step - loss: 1.0790 - val_loss: 1.3724\n"
          ]
        }
      ]
    },
    {
      "cell_type": "markdown",
      "source": [
        "results"
      ],
      "metadata": {
        "id": "2tLngXk0OFbO"
      }
    },
    {
      "cell_type": "code",
      "source": [
        "predicted_weight = np.squeeze(model.predict(test_images))\n",
        "true_ages = test_images.labels\n",
        "\n",
        "mse = model.evaluate(test_images, verbose=0)\n",
        "print(\"     Test MSE: {:.5f}\".format(mse))\n",
        "\n",
        "r2 = r2_score(true_ages, predicted_weight)\n",
        "print(\"Test R^2 Score: {:.5f}\".format(r2))"
      ],
      "metadata": {
        "id": "vnLNQKuDSQqb",
        "colab": {
          "base_uri": "https://localhost:8080/"
        },
        "outputId": "e21b32c3-dd4e-4d88-a995-cac9b1de8643"
      },
      "execution_count": null,
      "outputs": [
        {
          "output_type": "stream",
          "name": "stdout",
          "text": [
            "41/41 [==============================] - 299s 7s/step\n",
            "     Test MSE: 1.40912\n",
            "Test R^2 Score: -0.00465\n"
          ]
        }
      ]
    },
    {
      "cell_type": "code",
      "source": [
        "null_rmse = np.sqrt(np.sum((true_ages - np.mean(true_ages))**2) / len(true_ages))\n",
        "print(\"Null/Baseline Model Test RMSE: {:.5f}\".format(null_rmse))"
      ],
      "metadata": {
        "id": "SHhIv-FkSa6T",
        "colab": {
          "base_uri": "https://localhost:8080/"
        },
        "outputId": "086036ad-9224-4468-a92c-6d299848994f"
      },
      "execution_count": null,
      "outputs": [
        {
          "output_type": "stream",
          "name": "stdout",
          "text": [
            "Null/Baseline Model Test RMSE: 1.18431\n"
          ]
        }
      ]
    },
    {
      "cell_type": "code",
      "source": [
        "import matplotlib.pyplot as plt"
      ],
      "metadata": {
        "id": "C11eKiUXsBFa"
      },
      "execution_count": null,
      "outputs": []
    },
    {
      "cell_type": "code",
      "source": [
        "plt.plot(history.history['loss'])\n",
        "plt.plot(history.history['val_loss'])\n",
        "plt.title('model loss')\n",
        "plt.ylabel('loss')\n",
        "plt.xlabel('epoch')\n",
        "plt.legend(['Train', 'Validation'], loc='upper left')\n",
        "plt.show()"
      ],
      "metadata": {
        "colab": {
          "base_uri": "https://localhost:8080/",
          "height": 295
        },
        "id": "4cjMfcEKr9DN",
        "outputId": "e2cdd02a-fa33-4a9a-ae5a-d7b51dfdec57"
      },
      "execution_count": null,
      "outputs": [
        {
          "output_type": "display_data",
          "data": {
            "text/plain": [
              "<Figure size 432x288 with 1 Axes>"
            ],
            "image/png": "[encoded data removed]"
          },
          "metadata": {
            "needs_background": "light"
          }
        }
      ]
    },
    {
      "cell_type": "code",
      "source": [],
      "metadata": {
        "id": "RA-7t2IRtauP"
      },
      "execution_count": null,
      "outputs": []
    },
    {
      "cell_type": "code",
      "source": [
        "img=\"/content/drive/MyDrive/fruitbox1/Image_100.jpg\"\n",
        "\n",
        "img1 = image.load_img(img, target_size=(224, 224,3))\n",
        "img_array = image.img_to_array(img1)\n",
        "img_batch = np.expand_dims(img_array, axis=0)\n",
        "img_preprocessed = preprocess_input(img_batch)"
      ],
      "metadata": {
        "id": "hxkWfg1gnOfR"
      },
      "execution_count": null,
      "outputs": []
    },
    {
      "cell_type": "code",
      "source": [
        "img"
      ],
      "metadata": {
        "colab": {
          "base_uri": "https://localhost:8080/",
          "height": 36
        },
        "id": "n01U1Tt2on4q",
        "outputId": "148634be-c08e-474b-b5c2-a803a80e35e7"
      },
      "execution_count": null,
      "outputs": [
        {
          "output_type": "execute_result",
          "data": {
            "text/plain": [
              "'/content/drive/MyDrive/fruitbox1/Image_100.jpg'"
            ],
            "application/vnd.google.colaboratory.intrinsic+json": {
              "type": "string"
            }
          },
          "metadata": {},
          "execution_count": 12
        }
      ]
    },
    {
      "cell_type": "code",
      "source": [
        "y=model.predict(img_preprocessed)"
      ],
      "metadata": {
        "colab": {
          "base_uri": "https://localhost:8080/"
        },
        "id": "HTUhbvCzqDeJ",
        "outputId": "7cf8139a-c257-489f-c477-7d1e5cb14296"
      },
      "execution_count": null,
      "outputs": [
        {
          "output_type": "stream",
          "name": "stdout",
          "text": [
            "1/1 [==============================] - 8s 8s/step\n"
          ]
        }
      ]
    },
    {
      "cell_type": "code",
      "source": [
        "print(y)"
      ],
      "metadata": {
        "colab": {
          "base_uri": "https://localhost:8080/"
        },
        "id": "r6mleNKZqkYL",
        "outputId": "2205792c-65bb-47dd-9250-e6dd3b07218e"
      },
      "execution_count": null,
      "outputs": [
        {
          "output_type": "stream",
          "name": "stdout",
          "text": [
            "[[1.9812329]]\n"
          ]
        }
      ]
    },
    {
      "cell_type": "code",
      "source": [
        "x=model.predict(img_preprocessed)"
      ],
      "metadata": {
        "colab": {
          "base_uri": "https://localhost:8080/"
        },
        "id": "1cRzI2hFEtzY",
        "outputId": "d5211e71-60ac-4fad-987b-a89ecd8f5442"
      },
      "execution_count": null,
      "outputs": [
        {
          "output_type": "stream",
          "name": "stdout",
          "text": [
            "1/1 [==============================] - 0s 27ms/step\n"
          ]
        }
      ]
    },
    {
      "cell_type": "code",
      "source": [
        "print(x)"
      ],
      "metadata": {
        "colab": {
          "base_uri": "https://localhost:8080/"
        },
        "id": "10c1USl9E1HD",
        "outputId": "5a525aa8-c226-404f-95c4-bed3f5737339"
      },
      "execution_count": null,
      "outputs": [
        {
          "output_type": "stream",
          "name": "stdout",
          "text": [
            "[[1.9812329]]\n"
          ]
        }
      ]
    },
    {
      "cell_type": "code",
      "source": [
        "input_folder='/content/drive/MyDrive/fruitbox1'"
      ],
      "metadata": {
        "id": "BmKzyTwxBTjL"
      },
      "execution_count": null,
      "outputs": []
    },
    {
      "cell_type": "code",
      "source": [],
      "metadata": {
        "id": "YdQVATABFSba"
      },
      "execution_count": null,
      "outputs": []
    },
    {
      "cell_type": "code",
      "source": [
        "model.save('/content/drive/MyDrive/model/new2.h5')"
      ],
      "metadata": {
        "id": "aNThd4TlxWCe"
      },
      "execution_count": null,
      "outputs": []
    },
    {
      "cell_type": "code",
      "source": [
        "import tensorflow as tf\n"
      ],
      "metadata": {
        "id": "i6ki3bIlzG0T"
      },
      "execution_count": null,
      "outputs": []
    },
    {
      "cell_type": "code",
      "source": [
        "model.save_weights('qty.h5')"
      ],
      "metadata": {
        "id": "C9vtIOU_znvT"
      },
      "execution_count": null,
      "outputs": []
    },
    {
      "cell_type": "code",
      "source": [
        "model.load_weights('/content/drive/MyDrive/model/new1.h5')"
      ],
      "metadata": {
        "id": "UDblk1Pc2yk8"
      },
      "execution_count": null,
      "outputs": []
    },
    {
      "cell_type": "code",
      "source": [
        "y=model.predict(img_preprocessed)"
      ],
      "metadata": {
        "colab": {
          "base_uri": "https://localhost:8080/"
        },
        "id": "V_QcxxWB464R",
        "outputId": "6b01b55f-71a5-4d2c-b8ed-f80cd7888a64"
      },
      "execution_count": null,
      "outputs": [
        {
          "output_type": "stream",
          "name": "stdout",
          "text": [
            "1/1 [==============================] - 1s 1s/step\n"
          ]
        }
      ]
    },
    {
      "cell_type": "code",
      "source": [
        "print(y)"
      ],
      "metadata": {
        "colab": {
          "base_uri": "https://localhost:8080/"
        },
        "id": "plzG6cKBA2FY",
        "outputId": "9561a89d-77cf-4389-909c-75f608f8d458"
      },
      "execution_count": null,
      "outputs": [
        {
          "output_type": "stream",
          "name": "stdout",
          "text": [
            "[[1.8933686]]\n"
          ]
        }
      ]
    },
    {
      "cell_type": "code",
      "source": [
        "print(accuracy_score(ytest, model.predict(xtest)))"
      ],
      "metadata": {
        "id": "ZgyEJ98z7VoM"
      },
      "execution_count": null,
      "outputs": []
    },
    {
      "cell_type": "code",
      "source": [
        "model.predict(val_images)"
      ],
      "metadata": {
        "id": "ZEyVAlPd89EM"
      },
      "execution_count": null,
      "outputs": []
    },
    {
      "cell_type": "code",
      "source": [
        "val_images"
      ],
      "metadata": {
        "colab": {
          "base_uri": "https://localhost:8080/"
        },
        "id": "Jhp3a16e92zw",
        "outputId": "070cc051-08c0-4d3e-c0ee-1e0640a58852"
      },
      "execution_count": null,
      "outputs": [
        {
          "output_type": "execute_result",
          "data": {
            "text/plain": [
              "<keras.preprocessing.image.DataFrameIterator at 0x7ff581beb790>"
            ]
          },
          "metadata": {},
          "execution_count": 30
        }
      ]
    }
  ]
}